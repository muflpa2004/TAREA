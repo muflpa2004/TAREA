{
 "cells": [
  {
   "cell_type": "markdown",
   "metadata": {
    "id": "6KT_sNKVcFgt"
   },
   "source": [
    "\n",
    "\n",
    "\n",
    "## `Primer examen de Fundamentos de programación`"
   ]
  },
  {
   "cell_type": "markdown",
   "metadata": {
    "id": "ZGDKVR2Xgi9T"
   },
   "source": [
    "\n",
    "\n",
    "## `Qué es programar`"
   ]
  },
  {
   "cell_type": "code",
   "execution_count": null,
   "metadata": {
    "id": "SmJzymKRjF8i"
   },
   "outputs": [],
   "source": [
    "# 1. Indique qué es programar"
   ]
  },
  {
   "cell_type": "code",
   "execution_count": null,
   "metadata": {
    "colab": {
     "base_uri": "https://localhost:8080/"
    },
    "id": "NO-BdrMUjKUR",
    "outputId": "c4a15bb5-10fd-48b3-8a12-ab6e77098cb0"
   },
   "outputs": [
    {
     "name": "stdout",
     "output_type": "stream",
     "text": [
      "Programar es: el proceso de crear códigos para realizar determinadas tareas ya sea: crear sistemas operativos, hacer cálculos de manera autónoma, entre otros\n"
     ]
    }
   ],
   "source": [
    "#Entrada\n",
    "x=\"el proceso de crear códigos para realizar determinadas tareas ya sea: crear sistemas operativos, hacer cálculos de manera autónoma, entre otros\"\n",
    "#Proceso\n",
    "a=x\n",
    "print(\"Programar es:\",a)"
   ]
  },
  {
   "cell_type": "code",
   "execution_count": null,
   "metadata": {
    "id": "EeCQhLAKin9x"
   },
   "outputs": [],
   "source": [
    "# 2. La programación se puede definir como"
   ]
  },
  {
   "cell_type": "code",
   "execution_count": null,
   "metadata": {
    "colab": {
     "base_uri": "https://localhost:8080/"
    },
    "id": "bifwMvm4ihdR",
    "outputId": "0e66e336-2e52-4269-cf24-4a8e50efa8a4"
   },
   "outputs": [
    {
     "name": "stdout",
     "output_type": "stream",
     "text": [
      "La respuesta correcta es: d) las anteriores respuestas no son correctas\n"
     ]
    }
   ],
   "source": [
    "#Entrada\n",
    "x=\"d) las anteriores respuestas no son correctas\"\n",
    "#Proceso\n",
    "a=x\n",
    "print(\"La respuesta correcta es:\",a)"
   ]
  },
  {
   "cell_type": "markdown",
   "metadata": {},
   "source": [
    "**Qué es un lenguaje de programación**"
   ]
  },
  {
   "cell_type": "markdown",
   "metadata": {
    "id": "voRI9GYggzZj"
   },
   "source": [
    "\n",
    "\n",
    "`1. Cuál(es) de los siguientes son lenguajes de programación`\n"
   ]
  },
  {
   "cell_type": "code",
   "execution_count": 1,
   "metadata": {
    "colab": {
     "base_uri": "https://localhost:8080/"
    },
    "id": "pLAbE4bib1RZ",
    "outputId": "e880324d-a2dd-4cce-9bc3-2cdd07ff16a7"
   },
   "outputs": [
    {
     "name": "stdout",
     "output_type": "stream",
     "text": [
      "la respuesta correcta es= a, b y c\n"
     ]
    }
   ],
   "source": [
    "#Entrada\n",
    "a=\"a, b y c\"\n",
    "#Proceso\n",
    "x=a\n",
    "#Salida\n",
    "print(\"la respuesta correcta es=\",x)"
   ]
  },
  {
   "cell_type": "markdown",
   "metadata": {
    "id": "INlX4wwskXFq"
   },
   "source": [
    "`2. ¿Cuál es el código ASCII decimal de “nueva línea” (line feed)?`"
   ]
  },
  {
   "cell_type": "code",
   "execution_count": null,
   "metadata": {
    "colab": {
     "base_uri": "https://localhost:8080/"
    },
    "id": "eGiuJ0sHkbng",
    "outputId": "7ada3794-f83d-4c24-ef00-4af049444fe0"
   },
   "outputs": [
    {
     "name": "stdout",
     "output_type": "stream",
     "text": [
      "la respuesta correcta es= a) 10\n"
     ]
    }
   ],
   "source": [
    "#Entrada\n",
    "a=\"a) 10\"\n",
    "#Proceso\n",
    "x=a\n",
    "#Salida\n",
    "print(\"la respuesta correcta es=\",x)"
   ]
  },
  {
   "cell_type": "markdown",
   "metadata": {
    "id": "5bxwUXaHk-JK"
   },
   "source": [
    "`3. ¿Cuál es el código ASCII decimal de la letra A mayúscula?`"
   ]
  },
  {
   "cell_type": "code",
   "execution_count": null,
   "metadata": {
    "colab": {
     "base_uri": "https://localhost:8080/"
    },
    "id": "CSLh6vx7lDR5",
    "outputId": "afcf8e17-36b8-4048-aa16-2a0fc6f6e9a2"
   },
   "outputs": [
    {
     "name": "stdout",
     "output_type": "stream",
     "text": [
      "la respuesta correcta es: b) 65\n"
     ]
    }
   ],
   "source": [
    "#Entrada\n",
    "a=\"b) 65\"\n",
    "#Proceso\n",
    "x=a\n",
    "#Salida\n",
    "print(\"la respuesta correcta es:\",x)"
   ]
  },
  {
   "cell_type": "markdown",
   "metadata": {
    "id": "X31j8yxAmpT8"
   },
   "source": [
    "`4. En un lenguaje débilmente tipado`"
   ]
  },
  {
   "cell_type": "code",
   "execution_count": null,
   "metadata": {
    "colab": {
     "base_uri": "https://localhost:8080/"
    },
    "id": "-6nCYhF8muoh",
    "outputId": "066700f3-6f48-427d-938e-e3645a58be0c"
   },
   "outputs": [
    {
     "name": "stdout",
     "output_type": "stream",
     "text": [
      "la respuesta correcta es: c) Un valor de un tipo puede ser tratado como de otro tipo siempre que se realice una conversión de forma explícita\n"
     ]
    }
   ],
   "source": [
    "#Entrada\n",
    "a=\"c) Un valor de un tipo puede ser tratado como de otro tipo siempre que se realice una conversión de forma explícita\"\n",
    "#Proceso\n",
    "x=a\n",
    "#Salida\n",
    "print(\"la respuesta correcta es:\",x)"
   ]
  },
  {
   "cell_type": "markdown",
   "metadata": {
    "id": "zI6z_z-Xnq57"
   },
   "source": [
    "`5. El lenguaje ensamblador se sitúa`"
   ]
  },
  {
   "cell_type": "code",
   "execution_count": null,
   "metadata": {
    "colab": {
     "base_uri": "https://localhost:8080/"
    },
    "id": "GhXlndaEnre4",
    "outputId": "033aa9e0-7dfb-421b-82c1-5f5d61e7367b"
   },
   "outputs": [
    {
     "name": "stdout",
     "output_type": "stream",
     "text": [
      "la respuesta correcta es: a) Más cerca del lenguaje máquina que de los lenguajes de alto nivel\n"
     ]
    }
   ],
   "source": [
    "#Entrada\n",
    "a=\"a) Más cerca del lenguaje máquina que de los lenguajes de alto nivel\"\n",
    "#Proceso\n",
    "x=a\n",
    "#Salida\n",
    "print(\"la respuesta correcta es:\",x)"
   ]
  },
  {
   "cell_type": "markdown",
   "metadata": {
    "id": "GC2mylJMm7SB"
   },
   "source": [
    "`6. Se considera que el primer lenguaje de alto nivel fue:`"
   ]
  },
  {
   "cell_type": "code",
   "execution_count": null,
   "metadata": {
    "colab": {
     "base_uri": "https://localhost:8080/"
    },
    "id": "HCKS63TUm_2h",
    "outputId": "c2194d9d-392b-4002-8372-cfc460bc89e7"
   },
   "outputs": [
    {
     "name": "stdout",
     "output_type": "stream",
     "text": [
      "la respuesta correcta es: c) Fortran\n"
     ]
    }
   ],
   "source": [
    "#Entrada\n",
    "a=\"c) Fortran\"\n",
    "#Proceso\n",
    "x=a\n",
    "#Salida\n",
    "print(\"la respuesta correcta es:\",x)"
   ]
  },
  {
   "cell_type": "markdown",
   "metadata": {
    "id": "zYwlsf1Iotax"
   },
   "source": [
    "`**7. Imperativo, declarativo y orientado a objetos son**`"
   ]
  },
  {
   "cell_type": "code",
   "execution_count": null,
   "metadata": {
    "colab": {
     "base_uri": "https://localhost:8080/"
    },
    "id": "bduou04SoxBg",
    "outputId": "be05cf9b-4fec-4bce-cf87-68bef9b4a318"
   },
   "outputs": [
    {
     "name": "stdout",
     "output_type": "stream",
     "text": [
      "la respuesta correcta es: c) Paradigmas de programación\n"
     ]
    }
   ],
   "source": [
    "#Entrada\n",
    "a=\"c) Paradigmas de programación\"\n",
    "#Proceso\n",
    "x=a\n",
    "#Salida\n",
    "print(\"la respuesta correcta es:\",x)"
   ]
  },
  {
   "cell_type": "markdown",
   "metadata": {
    "id": "ZLzuOvgcpEHw"
   },
   "source": [
    "# **Modelización de problemas del mundo real**"
   ]
  },
  {
   "cell_type": "markdown",
   "metadata": {
    "id": "up40QwAQpF63"
   },
   "source": [
    "**Del problema real a su solución por computadora**"
   ]
  },
  {
   "cell_type": "markdown",
   "metadata": {
    "id": "b3mHkLhgpI6Q"
   },
   "source": [
    "1. Enumere las etapas de la resolución de un problema con computador."
   ]
  },
  {
   "cell_type": "code",
   "execution_count": null,
   "metadata": {
    "colab": {
     "base_uri": "https://localhost:8080/"
    },
    "id": "6R5q__0fpMXX",
    "outputId": "a46bb19c-99cd-499e-a8e7-5bd331d7f2e7"
   },
   "outputs": [
    {
     "name": "stdout",
     "output_type": "stream",
     "text": [
      "1 Identificar el problema\n",
      "2 Describir el problema\n",
      "3 Analizar la causa\n",
      "4 Soluciones opcionales\n",
      "5 Toma de decisiones\n",
      "6 Plan de acción\n"
     ]
    }
   ],
   "source": [
    "#entrada\n",
    "etapas=[\"Identificar el problema\",\"Describir el problema\",\"Analizar la causa\",\"Soluciones opcionales\",\"Toma de decisiones\",\"Plan de acción\"]\n",
    "#proceso\n",
    "for i, etapas in enumerate(etapas, 1):\n",
    "#Salida\n",
    " print(i, etapas)"
   ]
  },
  {
   "cell_type": "markdown",
   "metadata": {
    "id": "kC_qmhDstPvI"
   },
   "source": [
    "2. * Describa las etapas de la resolución de un problema con computadora"
   ]
  },
  {
   "cell_type": "code",
   "execution_count": null,
   "metadata": {
    "colab": {
     "base_uri": "https://localhost:8080/"
    },
    "id": "OLGFYv0AtfKW",
    "outputId": "56c9d932-582f-4942-d8da-4f8e4f1ae1a1"
   },
   "outputs": [
    {
     "name": "stdout",
     "output_type": "stream",
     "text": [
      "Las etapas de la resolución son:\n",
      "1. Identificar el problema. La solución de problemas y toma de decisiones comienza reconociendo que hay una situación que quiere solucionarse.\n",
      "2. Describir el problema. En esta etapa es necesario recabar información para poder describir el problema de la manera más correcta y veraz, ayudado por técnicas como: análisis de datos, intercambio de ideas, análisis del campo de fuerza o análisis de la palabra clave.\n",
      "3. Analizar la causa. Aquí se busca la causa original del problema.\n",
      "4. Soluciones opcionales. Su objetivo es completar una lista de alternativas concebibles. Lo que se busca son estrategias que se dirijan hacia la causa original y resuelvan el problema de una vez por todas.\n",
      "5. Toma de decisiones. Es eliminar las peores alternativas y comparar las restantes unas con otras. El objetivo es encontrar una solución correcta utilizando un proceso práctico y científico. Tal vez exista una decisión correcta que, sin embargo, no funcionará a menos que todos los implicados la acepten.\n",
      "6. Plan de acción. La mejor solución concebible y con la que todo mundo esté de acuerdo no resolverá ningún problema si no se pone en acción. En un plan de acción se detalla quién hará qué cosa y cuándo. Organiza las tareas a través de las cuales se implementará la decisión.\n"
     ]
    }
   ],
   "source": [
    "Etapa0=\"Las etapas de la resolución son:\"\n",
    "etapas1=\"1. Identificar el problema. La solución de problemas y toma de decisiones comienza reconociendo que hay una situación que quiere solucionarse.\"\n",
    "etapas2=\"2. Describir el problema. En esta etapa es necesario recabar información para poder describir el problema de la manera más correcta y veraz, ayudado por técnicas como: análisis de datos, intercambio de ideas, análisis del campo de fuerza o análisis de la palabra clave.\"\n",
    "etapas3=\"3. Analizar la causa. Aquí se busca la causa original del problema.\"\n",
    "etapas4=\"4. Soluciones opcionales. Su objetivo es completar una lista de alternativas concebibles. Lo que se busca son estrategias que se dirijan hacia la causa original y resuelvan el problema de una vez por todas.\"\n",
    "etapas5=\"5. Toma de decisiones. Es eliminar las peores alternativas y comparar las restantes unas con otras. El objetivo es encontrar una solución correcta utilizando un proceso práctico y científico. Tal vez exista una decisión correcta que, sin embargo, no funcionará a menos que todos los implicados la acepten.\"\n",
    "etapas6=\"6. Plan de acción. La mejor solución concebible y con la que todo mundo esté de acuerdo no resolverá ningún problema si no se pone en acción. En un plan de acción se detalla quién hará qué cosa y cuándo. Organiza las tareas a través de las cuales se implementará la decisión.\"\n",
    "print(Etapa0)\n",
    "print(etapas1)\n",
    "print(etapas2)\n",
    "print(etapas3)\n",
    "print(etapas4)\n",
    "print(etapas5)\n",
    "print(etapas6)"
   ]
  },
  {
   "cell_type": "markdown",
   "metadata": {
    "id": "JF2Ylx-c20zM"
   },
   "source": [
    "# **Conceptos acerca de software**"
   ]
  },
  {
   "cell_type": "markdown",
   "metadata": {
    "id": "1dklNvTx28MT"
   },
   "source": [
    "**Variables y tipos de datos**"
   ]
  },
  {
   "cell_type": "markdown",
   "metadata": {
    "id": "0nhmlxzG3ETr"
   },
   "source": [
    "1. int, char, float, string y boolean son"
   ]
  },
  {
   "cell_type": "code",
   "execution_count": null,
   "metadata": {
    "colab": {
     "base_uri": "https://localhost:8080/"
    },
    "id": "4dLK6D1L3STK",
    "outputId": "9cf10500-7aab-4162-b788-bf1953219e29"
   },
   "outputs": [
    {
     "name": "stdout",
     "output_type": "stream",
     "text": [
      "la respuesta correcta es: d) Tipos de datos\n"
     ]
    }
   ],
   "source": [
    "#Entrada\n",
    "a=\"d) Tipos de datos\"\n",
    "#Proceso\n",
    "x=a\n",
    "#Salida\n",
    "print(\"la respuesta correcta es:\",x)"
   ]
  },
  {
   "cell_type": "markdown",
   "metadata": {
    "id": "_RmOcsei3tjk"
   },
   "source": [
    "2. Una variable es (seleccione una o más opciones según corresponda)"
   ]
  },
  {
   "cell_type": "code",
   "execution_count": null,
   "metadata": {
    "colab": {
     "base_uri": "https://localhost:8080/"
    },
    "id": "fdMBmWWB3t_E",
    "outputId": "c66acb2f-7814-45d1-b77c-149390952206"
   },
   "outputs": [
    {
     "name": "stdout",
     "output_type": "stream",
     "text": [
      "la respuesta correcta es: c\n"
     ]
    }
   ],
   "source": [
    "#Entrada\n",
    "a=\"c\"\n",
    "#Proceso\n",
    "x=a\n",
    "#Salida\n",
    "print(\"la respuesta correcta es:\",x)"
   ]
  },
  {
   "cell_type": "markdown",
   "metadata": {
    "id": "NQm1WPF645RT"
   },
   "source": [
    "# **Algoritmos**"
   ]
  },
  {
   "cell_type": "markdown",
   "metadata": {
    "id": "AW0gvMIP4_T7"
   },
   "source": [
    "1. Explique lo qué es un algoritmo. Dé un ejemplo sencillo"
   ]
  },
  {
   "cell_type": "code",
   "execution_count": null,
   "metadata": {
    "colab": {
     "base_uri": "https://localhost:8080/"
    },
    "id": "kDXMlU5B5PCL",
    "outputId": "926f8a83-2e88-45a8-ab2a-fd12a5786585"
   },
   "outputs": [
    {
     "name": "stdout",
     "output_type": "stream",
     "text": [
      "Un algoritmo consiste en pasos que debemos de seguir para lograr la resolucion del problema que tengamos\n"
     ]
    }
   ],
   "source": [
    "#Entrada\n",
    "a=\"Un algoritmo consiste en pasos que debemos de seguir para lograr la resolucion del problema que tengamos\"\n",
    "#Proceso\n",
    "x=a\n",
    "#Salida\n",
    "print(x)"
   ]
  },
  {
   "cell_type": "code",
   "execution_count": null,
   "metadata": {
    "colab": {
     "base_uri": "https://localhost:8080/"
    },
    "id": "Ljb1gTFx9zGj",
    "outputId": "abaa1168-1303-49ed-9cca-d013184a3321"
   },
   "outputs": [
    {
     "name": "stdout",
     "output_type": "stream",
     "text": [
      "Coloque el número:21\n",
      "Coloque el número:321\n",
      "342\n"
     ]
    }
   ],
   "source": [
    "#Entrada\n",
    "a=input(\"Coloque el número:\")\n",
    "b=input(\"Coloque el número:\")\n",
    "x=int(a)+int(b)\n",
    "print(x)"
   ]
  },
  {
   "cell_type": "markdown",
   "metadata": {
    "id": "Ne-IAOQaA91g"
   },
   "source": [
    "2.  ¿Cuáles son las características que debe cumplir un algoritmo?"
   ]
  },
  {
   "cell_type": "code",
   "execution_count": null,
   "metadata": {
    "colab": {
     "base_uri": "https://localhost:8080/"
    },
    "id": "SYPY2TXIA_sp",
    "outputId": "fc0c81c6-18bd-416c-ef03-5441102d6120"
   },
   "outputs": [
    {
     "name": "stdout",
     "output_type": "stream",
     "text": [
      "1 Tienen inicio y fin\n",
      "2 Funcionan en secuencia\n",
      "3 Las secuencias son concretas\n",
      "4 Los algoritmos son abstractos\n",
      "5 La cantidad de pasos de un algoritmo es finita\n"
     ]
    }
   ],
   "source": [
    "#entrada\n",
    "algoritmo=[\"Tienen inicio y fin\",\"Funcionan en secuencia\",\"Las secuencias son concretas\",\"Los algoritmos son abstractos\",\"La cantidad de pasos de un algoritmo es finita\"]\n",
    "#proceso\n",
    "for i, algoritmo in enumerate(algoritmo,1):\n",
    "#Salida\n",
    " print(i,algoritmo)"
   ]
  },
  {
   "cell_type": "markdown",
   "metadata": {
    "id": "YPuZB3mJDD1Z"
   },
   "source": [
    "3.  Describa las características de un algoritmo"
   ]
  },
  {
   "cell_type": "code",
   "execution_count": null,
   "metadata": {
    "colab": {
     "base_uri": "https://localhost:8080/"
    },
    "id": "HG_7DLX8DfCh",
    "outputId": "ee08bf0e-bf42-48fb-ba1a-9e5ae29dc75a"
   },
   "outputs": [
    {
     "name": "stdout",
     "output_type": "stream",
     "text": [
      "1.Tienen inicio y fin: todo algoritmo comienza en un estado inicial con una serie de datos específicos, y culmina con una solución o salida.\n",
      "2.Funcionan en secuencia: un algoritmo está compuesto por una serie de pasos ordenados.\n",
      "3.Las secuencias son concretas: cada paso es claro y no deja lugar a la ambigüedad.\n",
      "4.Los algoritmos son abstractos: son modelos o guías para ordenar procesos.\n",
      "5.La cantidad de pasos de un algoritmo es finita.\n"
     ]
    }
   ],
   "source": [
    "print(\"1.Tienen inicio y fin: todo algoritmo comienza en un estado inicial con una serie de datos específicos, y culmina con una solución o salida.\")\n",
    "print(\"2.Funcionan en secuencia: un algoritmo está compuesto por una serie de pasos ordenados.\")\n",
    "print(\"3.Las secuencias son concretas: cada paso es claro y no deja lugar a la ambigüedad.\")\n",
    "print(\"4.Los algoritmos son abstractos: son modelos o guías para ordenar procesos.\")\n",
    "print(\"5.La cantidad de pasos de un algoritmo es finita.\")"
   ]
  },
  {
   "cell_type": "markdown",
   "metadata": {
    "id": "YP9IYvP6EH4_"
   },
   "source": [
    "# **Ejercicios desde cero**"
   ]
  },
  {
   "cell_type": "markdown",
   "metadata": {
    "id": "XB2i7J6sEJV3"
   },
   "source": [
    "1. Algoritmo para preparar un margarita"
   ]
  },
  {
   "cell_type": "code",
   "execution_count": null,
   "metadata": {
    "colab": {
     "base_uri": "https://localhost:8080/"
    },
    "id": "d5S6On7uETSP",
    "outputId": "42a4fa55-64fe-466b-a34e-88ec8065bebe"
   },
   "outputs": [
    {
     "name": "stdout",
     "output_type": "stream",
     "text": [
      "1.Primero decoraremos el borde de sal. Cogemos un vaso ancho y ovalado, lo mojamos en un poco de sirope de azúcar presionando y a continuación, lo pasamos por un plato con sal, colocamos la lima y reservamos.\n",
      "2.Exprimimos las limas para extraer su zumo, puedes utilizar un prensador de limas que resulta de lo más útil pero también te sirve cualquier exprimidor que utilices para limones o naranjas. En nuestro caso no colamos el zumo, aunque si cae alguna pepita la retiramos.\n",
      "3.Con la ayuda del vaso medidor vertemos en la coctelera el zumo de lima recién exprimido, el tequila, y el triple seco, en este orden.\n",
      "4.Metemos cuatro o cinco cubos de hielo y agitamos bien durante unos 15 segundo, con brío y arte. Luego servimos el cóctel con ayuda del filtro de la propia coctelera o el colador en el vaso que tenemos preparado anteriormente.\n"
     ]
    }
   ],
   "source": [
    "print(\"1.Primero decoraremos el borde de sal. Cogemos un vaso ancho y ovalado, lo mojamos en un poco de sirope de azúcar presionando y a continuación, lo pasamos por un plato con sal, colocamos la lima y reservamos.\")\n",
    "print(\"2.Exprimimos las limas para extraer su zumo, puedes utilizar un prensador de limas que resulta de lo más útil pero también te sirve cualquier exprimidor que utilices para limones o naranjas. En nuestro caso no colamos el zumo, aunque si cae alguna pepita la retiramos.\")\n",
    "print(\"3.Con la ayuda del vaso medidor vertemos en la coctelera el zumo de lima recién exprimido, el tequila, y el triple seco, en este orden.\")\n",
    "print(\"4.Metemos cuatro o cinco cubos de hielo y agitamos bien durante unos 15 segundo, con brío y arte. Luego servimos el cóctel con ayuda del filtro de la propia coctelera o el colador en el vaso que tenemos preparado anteriormente.\")"
   ]
  },
  {
   "cell_type": "markdown",
   "metadata": {
    "id": "5PYkAVlqFHrg"
   },
   "source": [
    "2. Algoritmo para comprar los víveres de la semana\n"
   ]
  },
  {
   "cell_type": "code",
   "execution_count": null,
   "metadata": {
    "id": "zqjOt3qMFIWY"
   },
   "outputs": [],
   "source": [
    "a=input(\"Dinero que tengo: \")\n",
    "b=input(\"Gasto de comida: \")\n",
    "c=input(\"Gasto de ropa: \")\n",
    "d=input(\"Gasto de ocio: \")\n",
    "x=float(a)-float(b)-float(c)-float(d)\n",
    "print(\"El dinero restante que me queda es:\",x)\n"
   ]
  },
  {
   "cell_type": "markdown",
   "metadata": {
    "id": "4XrFSITHGKef"
   },
   "source": [
    "3.Algoritmo para construir una mesa"
   ]
  },
  {
   "cell_type": "code",
   "execution_count": null,
   "metadata": {
    "id": "fSK-OcvVIQh3"
   },
   "outputs": [],
   "source": [
    "print(\"PASO 1. HAZ UN BOCETO Y MIDE:\")\n",
    "print(\"Coge un papel y un lápiz y diseña cómo quieres que sea tu mesa. Lo más importante es que tengas las medidas claras. La altura estándar de una mesa de comedor está entre 70 y 75 cm, por lo que al comprar la madera que será el tablero y las que serán las patas tendrás que calcular que el grosor de una y la altura de las otras no sea mayor a esa medida. Tanto si te pasas de alto como de bajo, la mesa resultará incómoda.\")\n",
    "print(\"PASO 2. CALCULA LA MADERA\")\n",
    "print(\"Tras decidir cómo quieres que sea tu mesa de comedor, tanto en forma como en tamaño, tendrás que calcular cuánta madera necesitas. Piensa que, por un lado, va el tablero y por el otro la estructura que lo sostendrá. Este paso a paso lo vamos a hacer para una mesa con un sobre de 150 cm x 70 cm y una altura de 75 cm. Hay muchas grandes superficies dedicadas al bricolaje que venden madera en bruto para que puedas hacer tus propias creaciones. En este caso necesitarás:\")\n",
    "print(\"Tablero de madera maciza de 150 cm x 70 cm y un grosor de 1,8 cm (las hay mayores, pero tendrás que tenerlo en cuenta para que las patas, entonces, tengan menor altura\")\n",
    "print(\"Listones de madera:\")\n",
    "print(\"4 para las patas cuadradas, de un grosor de 7 cm y una altura de 73,2 cm.\")\n",
    "print(\"2 listones más finos para unir las patas en las cabeceras. El tamaño para este ejemplo es de 46 cm x 10 cm x 1,8 cm.\")\n",
    "print(\"2 listones más finos para los travesaños de la mesa, de unas medidas de 126 cm x 10 cm x 1,8 cm.\")\n",
    "print(\"1 listón para dar estabilidad a la mesa y que va colocado en el centro de la estructura, uniendo los dos laterales. Su tamaño es de 53,4 mm x 10 cm x 1,8 cm.\")\n",
    "print(\"4 tacos de madera con forma triangular, que servirán de refuerzo para la mesa y que van colocados en cada una de las cuatro esquinas.\")\n",
    "print(\"PASO 3. HAZ LAS MARCAS DE LAS ESPIGAS Y LAS CAJAS\")\n",
    "print(\"Las espigas son las hendiduras que se hacen en la madera para encajar una pieza con otra. Lo primero que debemos hacer es coger una escuadra y un lápiz y marcar dónde irán en los extremos de los travesaños. Mide bien para que en cada una de las piezas haya la misma distancia. Marca también, en las patas, el lugar en el que van encajadas las espigas, es decir, las cajas. Cada pata tendrá dos cajas. Ten en cuenta que, en los proyectos de bricolaje, un milímetro arriba o abajo puede echar a perder gran parte del trabajo.\")\n",
    "\n",
    "print(\"PASO 4. REALIZA LOS CORTES EN LA MADERA\")\n",
    "print(\"Fija los travesaños a la mesa de trabajo con unos sargentos, así te aseguras de que los tablones no se mueven y, además, es mucho más seguro. Con la sierra de calar, realiza los cortes necesarios para hacer las espigas. Sigue la línea que has hecho previamente.\")\n",
    "\n",
    "print(\"Para hacer las cajas en las patas, tendrás que emplear el taladro con una broca para madera. Realiza los orificios con cuidado y termina de vaciarlas con la ayuda de un formón y un mazo.\")\n",
    "\n",
    "print(\"PASO 5. CORTA LOS TACOS DE REFUERZO\")\n",
    "print(\"En cada esquina de la mesa necesitarás unos refuerzos que, además de estabilidad, harán la mesa más segura. Con la sierra de calar corta unos tacos en forma triangular. También necesitarás varios tacos de madera rectangulares, que irán fijos a la estructura y que será donde atornilles el tablero y la estructura.\")\n",
    "\n",
    "print(\"PASO 6. PASA LA LIJA\")\n",
    "print(\"Si tienes un cepillo eléctrico, utilízalo para suavizar el acabado de la madera, especialmente en las zonas que has cortado. Después pasa la lija elécctrica (si no tienes, bien vale la de mano) por toda la superficie para dejar un acabado agradable al tacto y sin astillas. Después limpia bien toda la superficie con un trapo seco. Si quieres, emplea el aspirador para limpiar las cajas y eliminar cualquier resto de serrín que pueda quedar. es recomendable que aproveches para limpiar todo el área de trabajo, ya que el serrín es muy molesto y puede interferir en los siguientes pasos.\")\n",
    "\n",
    "print(\"PASO 7. MONTA LA ESTRUCTURA\")\n",
    "print(\"Aplica cola para madera en las espigas y encájalas en las cajas de las patas. Según las vayas insertando, retira el resto del pegamento con un papel. Coloca también las piezas triangulares de refuerzo y presiona con fuerza para que se adhieran bien. Lo mismo con los tacos alrededor de toda la superficie. Cuando termines, coloca una cuerda alrededor de la estructura, a la altura de los travesaños y tensa con un palo hasta que la cola endurezca.\")\n",
    "\n",
    "print(\"PASO 8. UNE EL SOBRE A LA ESTRUCTURA\")\n",
    "print(\"Como te hemos explicado antes, los tacos de madera serán el soporte donde va atornillado el sobre. Así que coloca el sobre boca abajo y encima, también del revés, la estructura de la mesa. Después atornilla los tirafondos para unir ambas piezas. Utiliza el taladro atornillador para facilitar la tarea.\")\n",
    "\n",
    "print(\"PASO 9. PINTA O BARNIZA LA MESA\")\n",
    "print(\"Según el acabado que prefieras, pinta la mesa según tus preferencias. Si quieres acabados diferentes, por ejemplo las patas blancas y el sobre de madera natural, puedes hacerlo antes de montar las dos piezas.\")\n"
   ]
  },
  {
   "cell_type": "markdown",
   "metadata": {
    "id": "KySjkJYQJ3sH"
   },
   "source": [
    "5. Algoritmo para calcular el volumen de una esfera"
   ]
  },
  {
   "cell_type": "code",
   "execution_count": null,
   "metadata": {
    "colab": {
     "base_uri": "https://localhost:8080/"
    },
    "id": "7MMffN4UJ4bf",
    "outputId": "c037e8d0-3431-4dcd-9a42-8ec5bd370968"
   },
   "outputs": [
    {
     "name": "stdout",
     "output_type": "stream",
     "text": [
      "el radio es:2\n",
      "El volumen de la esfera es: 33.510321638291124\n"
     ]
    }
   ],
   "source": [
    "import math\n",
    "#Entrada\n",
    "radio=input(\"el radio es:\")\n",
    "#Proceso\n",
    "volumen=(4/3)*math.pi*math.pow(float(radio),3)\n",
    "#Salida\n",
    "print(\"El volumen de la esfera es:\",volumen)"
   ]
  },
  {
   "cell_type": "markdown",
   "metadata": {
    "id": "Z7b9Z1YkOFdd"
   },
   "source": [
    "6. Algoritmo para calcular el IVA de una compra"
   ]
  },
  {
   "cell_type": "code",
   "execution_count": null,
   "metadata": {
    "colab": {
     "base_uri": "https://localhost:8080/"
    },
    "id": "HrDjZ2PaOLOU",
    "outputId": "a6b06fee-323f-4929-e797-43785c362ae7"
   },
   "outputs": [
    {
     "name": "stdout",
     "output_type": "stream",
     "text": [
      "Inserte el valor de la compra:94\n",
      "El IVA de la compra es: 16.919999999999998\n"
     ]
    }
   ],
   "source": [
    "#ENTRADA\n",
    "valorcompra=input(\"Inserte el valor de la compra: \")\n",
    "#Proceso\n",
    "x=18/100*float(valorcompra)\n",
    "#Salida\n",
    "print(\"El IVA de la compra es: \",x)"
   ]
  },
  {
   "cell_type": "markdown",
   "metadata": {
    "id": "kCyc0PnIPBqf"
   },
   "source": [
    "7. Algoritmo para calcular la edad de una persona (tomar en cuenta sólo el\n",
    "año de nacimiento y el año actual)"
   ]
  },
  {
   "cell_type": "code",
   "execution_count": null,
   "metadata": {
    "colab": {
     "base_uri": "https://localhost:8080/"
    },
    "id": "V1cYJ2v5PDGl",
    "outputId": "f219c7b3-1761-4ce1-dc8f-213640fc27f6"
   },
   "outputs": [
    {
     "name": "stdout",
     "output_type": "stream",
     "text": [
      "inserte el año de nacimiento: 1982\n",
      "La edad de la persona es:  40\n"
     ]
    }
   ],
   "source": [
    "#Entrada\n",
    "añoactual=2022\n",
    "añonacimiento=input(\"inserte el año de nacimiento: \")\n",
    "#Proceso\n",
    "x=añoactual-int(añonacimiento)\n",
    "#Salida\n",
    "print(\"La edad de la persona es: \",x)"
   ]
  },
  {
   "cell_type": "markdown",
   "metadata": {
    "id": "3X_OvpEOPZqd"
   },
   "source": [
    "8. Algoritmo para calcular el cubo de un número"
   ]
  },
  {
   "cell_type": "code",
   "execution_count": null,
   "metadata": {
    "colab": {
     "base_uri": "https://localhost:8080/"
    },
    "id": "CA7ePr-TPdml",
    "outputId": "80c5e32f-d7ea-455e-aab7-47836117c235"
   },
   "outputs": [
    {
     "name": "stdout",
     "output_type": "stream",
     "text": [
      "coloque el número: 2\n",
      "El cubo del número es: 8.0\n"
     ]
    }
   ],
   "source": [
    "import math\n",
    "#Entrada\n",
    "numero=input(\"coloque el número: \")\n",
    "#Proceso\n",
    "resultado=math.pow(float(numero),3)\n",
    "#Salida\n",
    "print(\"El cubo del número es:\",resultado)"
   ]
  },
  {
   "cell_type": "markdown",
   "metadata": {
    "id": "F6a9zXLgQeiE"
   },
   "source": [
    "9. Algoritmo para pasar de grados sexagesimales a radianes"
   ]
  },
  {
   "cell_type": "code",
   "execution_count": null,
   "metadata": {
    "colab": {
     "base_uri": "https://localhost:8080/"
    },
    "id": "Lg0VNvlXQ09m",
    "outputId": "e29a8922-3c27-4975-cf42-cf615d789b53"
   },
   "outputs": [
    {
     "name": "stdout",
     "output_type": "stream",
     "text": [
      "grados sexagesimales: 180\n",
      "La conversión es: 3.141592653589793\n"
     ]
    }
   ],
   "source": [
    "import math\n",
    "#Entrada\n",
    "grado=input(\"grados sexagesimales: \")\n",
    "#Proceso\n",
    "resultado=(float(grado)*math.pi)/180\n",
    "#Salida\n",
    "print(\"La conversión es:\",resultado)"
   ]
  },
  {
   "cell_type": "markdown",
   "metadata": {
    "id": "8nBvrs0OR41s"
   },
   "source": [
    "10. Algoritmo para calcular el valor total a pagar por dos productos incluyendo\n",
    "el IVA y un impuesto más del 1% (se impone al valor de los productos,\n",
    "antes de calcular el IVA)"
   ]
  },
  {
   "cell_type": "code",
   "execution_count": null,
   "metadata": {
    "colab": {
     "base_uri": "https://localhost:8080/"
    },
    "id": "v67Z7uC4R5TE",
    "outputId": "be8125d0-0b90-463f-97b2-edb8ec50cec2"
   },
   "outputs": [
    {
     "name": "stdout",
     "output_type": "stream",
     "text": [
      "Coloque el valor: 2\n",
      "Coloque el valor: 1\n",
      "0.5454\n"
     ]
    }
   ],
   "source": [
    "#Entrada\n",
    "producto1=input(\"Coloque el valor: \")\n",
    "producto2=input(\"Coloque el valor: \")\n",
    "#Proceso\n",
    "resultado=(1/100*(float(producto1)+float(producto2))+float(producto1)+float(producto2))*18/100\n",
    "#Salida\n",
    "print(resultado)"
   ]
  }
 ],
 "metadata": {
  "colab": {
   "collapsed_sections": [
    "ZGDKVR2Xgi9T"
   ],
   "name": "MUGUERZA FLORES PIERO",
   "provenance": []
  },
  "kernelspec": {
   "display_name": "Python 3 (ipykernel)",
   "language": "python",
   "name": "python3"
  },
  "language_info": {
   "codemirror_mode": {
    "name": "ipython",
    "version": 3
   },
   "file_extension": ".py",
   "mimetype": "text/x-python",
   "name": "python",
   "nbconvert_exporter": "python",
   "pygments_lexer": "ipython3",
   "version": "3.10.4"
  }
 },
 "nbformat": 4,
 "nbformat_minor": 1
}
